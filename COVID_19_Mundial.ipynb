{
 "cells": [
  {
   "cell_type": "code",
   "execution_count": null,
   "metadata": {
    "colab": {},
    "colab_type": "code",
    "id": "I-kUHlqhd-y7"
   },
   "outputs": [],
   "source": [
    "!wget https://github.com/CSSEGISandData/COVID-19/archive/master.zip\n",
    "!unzip master.zip"
   ]
  },
  {
   "cell_type": "code",
   "execution_count": null,
   "metadata": {
    "colab": {},
    "colab_type": "code",
    "id": "sKIK0WcokANI"
   },
   "outputs": [],
   "source": [
    "!pip install geopandas"
   ]
  },
  {
   "cell_type": "code",
   "execution_count": null,
   "metadata": {
    "colab": {},
    "colab_type": "code",
    "id": "9IvVPJm8fZKe"
   },
   "outputs": [],
   "source": [
    "import pandas as pd\n",
    "import numpy as np\n",
    "import os\n",
    "from skimage import io\n",
    "\n",
    "import geopandas as gpd\n",
    "from shapely.geometry import Point, Polygon\n",
    "import descartes\n",
    "\n",
    "import matplotlib.pyplot as plt\n",
    "import seaborn as sns\n",
    "\n",
    "%matplotlib inline"
   ]
  },
  {
   "cell_type": "code",
   "execution_count": null,
   "metadata": {
    "colab": {
     "base_uri": "https://localhost:8080/",
     "height": 984
    },
    "colab_type": "code",
    "id": "JAzuRbjmes_6",
    "outputId": "8a89e77c-6b8f-48b6-963e-cdb373c8270c"
   },
   "outputs": [],
   "source": [
    "root_path = 'COVID-19-master/csse_covid_19_data/csse_covid_19_daily_reports/'\n",
    "\n",
    "recent = sorted(os.listdir(root_path))[-2]\n",
    "path = os.path.join(root_path, recent)\n",
    "df = pd.read_csv(path)\n",
    "print(df.shape)\n",
    "display(df)\n",
    "country = df['Country/Region'].to_numpy()\n",
    "print(np.unique(country))"
   ]
  },
  {
   "cell_type": "code",
   "execution_count": null,
   "metadata": {
    "colab": {},
    "colab_type": "code",
    "id": "QZlm8pxg3Cas"
   },
   "outputs": [],
   "source": [
    "dic_coor = {}\n",
    "for index, row in df.iterrows():\n",
    "  dic_coor[row['Country/Region']] = [row['Longitude'], row['Latitude']]"
   ]
  },
  {
   "cell_type": "code",
   "execution_count": null,
   "metadata": {
    "colab": {},
    "colab_type": "code",
    "id": "bQsCpMkOyjn_"
   },
   "outputs": [],
   "source": [
    "# Carregar mapa\n",
    "world = gpd.read_file(gpd.datasets.get_path('naturalearth_lowres'))\n",
    "for tipo in ['abs', 'log']:\n",
    "  print(\"Gerando dados tipo\", tipo, \"\\n\")\n",
    "\n",
    "  if not os.path.isdir(tipo):\n",
    "    os.mkdir(tipo)\n",
    "\n",
    "  for k, csv in enumerate(sorted(os.listdir(root_path))):\n",
    "    plt.close('all')\n",
    "    print(csv[:-4], end=',')\n",
    "    \n",
    "    if not csv[-3:] == 'csv': continue\n",
    "    \n",
    "    path = os.path.join(root_path, csv)\n",
    "    df = pd.read_csv(path)\n",
    "    \n",
    "    # Converter latitude e longitude para GeoDataFrame\n",
    "    if 'Longitude' not in df.columns.to_numpy():\n",
    "\n",
    "      regions = df['Country/Region']\n",
    "      regions = [r if r in dic_coor else 'China' for r in regions]\n",
    "      longitude = [dic_coor[r][0] for r in regions]\n",
    "      latitude  = [dic_coor[r][1] for r in regions]\n",
    "\n",
    "      df['Longitude'] = longitude\n",
    "      df['Latitude']  = latitude  \n",
    "      \n",
    "    gdf = gpd.GeoDataFrame(df, geometry=gpd.points_from_xy(df['Longitude'],df['Latitude']))\n",
    "\n",
    "    ax = world.plot(figsize=(15, 8))\n",
    "    \n",
    "    if tipo == \"log\":\n",
    "      gdf.plot(ax=ax, color='darkred', markersize=np.log10(gdf['Confirmed'])*2e1, alpha=0.6, ec='red')\n",
    "      plt.title('Número de casos do COVID-19\\nLog dos Valores', fontsize=21)\n",
    "    else:\n",
    "      gdf.plot(ax=ax, color='darkred', markersize=gdf['Confirmed'], alpha=0.6, ec='red')\n",
    "      plt.title('Número de casos do COVID-19\\nValores Absolutos', fontsize=21)\n",
    "      \n",
    "    date = csv[:-4].split('-')\n",
    "    plt.xlabel(date[1]+'/'+date[0]+'/'+date[2], fontsize=21)\n",
    "    plt.xticks([],[])\n",
    "    plt.yticks([],[])\n",
    "\n",
    "    plt.text(-193,0,'@canalpeixebabel', fontsize=12, va='center', color='darkblue', rotation=90)\n",
    "    plt.savefig(tipo+'/{:02d}.png'.format(k), dpi=150, format='png')"
   ]
  },
  {
   "cell_type": "code",
   "execution_count": null,
   "metadata": {
    "colab": {
     "base_uri": "https://localhost:8080/",
     "height": 1000
    },
    "colab_type": "code",
    "id": "pomGRoJ3M7HS",
    "outputId": "2641cd1b-dc71-4d59-e425-23eb4eaa4887"
   },
   "outputs": [],
   "source": [
    "for tipo in ['abs', 'log']:\n",
    "  plt.figure(figsize=(20, 10))\n",
    "  img = io.imread('{:s}/{:02d}.png'.format(tipo, len(os.listdir(root_path))))\n",
    "  plt.imshow(img)\n",
    "  plt.axis('off')\n",
    "  plt.show()\n"
   ]
  },
  {
   "cell_type": "code",
   "execution_count": null,
   "metadata": {
    "colab": {},
    "colab_type": "code",
    "id": "0AbUlOD6MJKO"
   },
   "outputs": [],
   "source": [
    "world = gpd.read_file(gpd.datasets.get_path('naturalearth_lowres'))\n",
    "\n",
    "# Capa Log\n",
    "ax = world.plot(figsize=(15, 8), alpha=0.5)\n",
    "plt.text(0, 0, 'Número de casos do COVID-19\\nLog dos Valores', linespacing=2 ,ha='center', \n",
    "        bbox=dict(boxstyle=\"round\",\n",
    "                  ec=(1., 0.5, 0.5),\n",
    "                  facecolor=(0.7, 0.1, 0.1, 0.8),\n",
    "                  ),color='white', fontsize=30)\n",
    "plt.text(-193,0,'@canalpeixebabel', fontsize=12, va='center', color='darkblue', rotation=90)\n",
    "plt.savefig('logtitle.png', dpi=100,format='png')\n",
    "plt.close('all')\n",
    "\n",
    "# Capa Abs\n",
    "ax = world.plot(figsize=(15, 8), alpha=0.5)\n",
    "plt.text(0, 0, 'Número de casos do COVID-19\\nValores Absolutos', linespacing=2 ,ha='center', \n",
    "        bbox=dict(boxstyle=\"round\",\n",
    "                  ec=(1., 0.5, 0.5),\n",
    "                  facecolor=(0.7, 0.1, 0.1, 0.8),\n",
    "                  ),color='white', fontsize=30)\n",
    "plt.text(-193,0,'@canalpeixebabel', fontsize=12, va='center', color='darkblue', rotation=90)\n",
    "plt.savefig('abstitle.png', dpi=100,format='png')\n",
    "plt.close('all')"
   ]
  },
  {
   "cell_type": "code",
   "execution_count": null,
   "metadata": {
    "colab": {},
    "colab_type": "code",
    "id": "hj6F2SeqLFqJ"
   },
   "outputs": [],
   "source": [
    "os.environ['num_csv'] = str(len(os.listdir(root_path))-2)\n",
    "!cp abs/$num_csv.png abs/`expr $num_csv + 1`.png\n",
    "!cp abs/$num_csv.png abs/`expr $num_csv + 2`.png\n",
    "!cp abs/$num_csv.png abs/`expr $num_csv + 3`.png\n",
    "\n",
    "!cp log/$num_csv.png log/`expr $num_csv + 1`.png \n",
    "!cp log/$num_csv.png log/`expr $num_csv + 2`.png\n",
    "!cp log/$num_csv.png log/`expr $num_csv + 3`.png"
   ]
  },
  {
   "cell_type": "code",
   "execution_count": null,
   "metadata": {
    "colab": {
     "base_uri": "https://localhost:8080/",
     "height": 74
    },
    "colab_type": "code",
    "id": "6JZZDaXeyNxR",
    "outputId": "9502e11a-8af0-44e3-afca-a775f6f11136"
   },
   "outputs": [],
   "source": [
    "import imageio\n",
    "images = []\n",
    "filenames = ['abstitle.png', 'abstitle.png', 'abstitle.png', 'abstitle.png', 'abstitle.png', 'abstitle.png', 'abstitle.png', 'abstitle.png']\n",
    "filenames.extend(['abs/'+ f for f in sorted(os.listdir('abs/'))] )\n",
    "filenames.extend( ['logtitle.png', 'logtitle.png', 'logtitle.png', 'logtitle.png', 'logtitle.png', 'logtitle.png', 'logtitle.png'] )\n",
    "filenames.extend(['log/'+ f for f in sorted(os.listdir('log/'))] )\n",
    "print(filenames)\n",
    "for filename in filenames:\n",
    "    if '.png' in filename:\n",
    "      images.append(imageio.imread(filename))\n",
    "imageio.mimsave('data-covid19.gif', images, duration=1/3)\n",
    "print(\"data-covid19.gif salvo nos seus arquivos\")"
   ]
  },
  {
   "cell_type": "code",
   "execution_count": null,
   "metadata": {},
   "outputs": [],
   "source": []
  }
 ],
 "metadata": {
  "colab": {
   "name": "COVID-19_Mundial.ipynb",
   "provenance": []
  },
  "kernelspec": {
   "display_name": "Python 3",
   "language": "python",
   "name": "python3"
  },
  "language_info": {
   "codemirror_mode": {
    "name": "ipython",
    "version": 3
   },
   "file_extension": ".py",
   "mimetype": "text/x-python",
   "name": "python",
   "nbconvert_exporter": "python",
   "pygments_lexer": "ipython3",
   "version": "3.8.2"
  }
 },
 "nbformat": 4,
 "nbformat_minor": 4
}