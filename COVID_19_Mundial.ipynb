{
 "cells": [
  {
   "cell_type": "code",
   "execution_count": 17,
   "metadata": {
    "colab": {},
    "colab_type": "code",
    "id": "I-kUHlqhd-y7",
    "tags": [
     "outputPrepend",
     "outputPrepend",
     "outputPrepend",
     "outputPrepend",
     "outputPrepend"
    ]
   },
   "outputs": [],
   "source": [
    "!wget https://github.com/CSSEGISandData/COVID-19/archive/master.zip -O data_covid19.zip\n",
    "!rm -rf COVID-19-master\n",
    "!unzip data_covid19\n",
    "!rm data_covid19.zip"
   ]
  },
  {
   "cell_type": "code",
   "execution_count": 14,
   "metadata": {
    "colab": {},
    "colab_type": "code",
    "id": "sKIK0WcokANI"
   },
   "outputs": [],
   "source": [
    "!pip install geopandas"
   ]
  },
  {
   "cell_type": "code",
   "execution_count": 2,
   "metadata": {
    "colab": {},
    "colab_type": "code",
    "id": "9IvVPJm8fZKe"
   },
   "outputs": [],
   "source": [
    "import pandas as pd\n",
    "import numpy as np\n",
    "import os\n",
    "from skimage import io\n",
    "\n",
    "import geopandas as gpd\n",
    "from shapely.geometry import Point, Polygon\n",
    "import descartes\n",
    "\n",
    "import matplotlib.pyplot as plt\n",
    "import seaborn as sns\n",
    "\n",
    "%matplotlib inline"
   ]
  },
  {
   "cell_type": "code",
   "execution_count": 3,
   "metadata": {
    "colab": {
     "base_uri": "https://localhost:8080/",
     "height": 984
    },
    "colab_type": "code",
    "id": "JAzuRbjmes_6",
    "outputId": "8a89e77c-6b8f-48b6-963e-cdb373c8270c"
   },
   "outputs": [
    {
     "output_type": "stream",
     "name": "stdout",
     "text": "(3421, 12)\n"
    },
    {
     "output_type": "display_data",
     "data": {
      "text/plain": "      Province_State      Country/Region          Last_Update   Latitude  \\\n0     South Carolina                  US  2020-03-26 23:48:35  34.223334   \n1          Louisiana                  US  2020-03-26 23:48:35  30.295065   \n2           Virginia                  US  2020-03-26 23:48:35  37.767072   \n3              Idaho                  US  2020-03-26 23:48:35  43.452658   \n4               Iowa                  US  2020-03-26 23:48:35  41.330756   \n...              ...                 ...                  ...        ...   \n3416             NaN           Venezuela  2020-03-26 23:48:18   6.423800   \n3417             NaN             Vietnam  2020-03-26 23:48:18  14.058324   \n3418             NaN  West Bank and Gaza  2020-03-26 23:48:18  31.952200   \n3419             NaN              Zambia  2020-03-26 23:48:18 -13.133897   \n3420             NaN            Zimbabwe  2020-03-26 23:48:18 -19.015438   \n\n       Longitude  Confirmed  Deaths  Recovered  Active  \\\n0     -82.461707          3       0          0       0   \n1     -92.414197          3       0          0       0   \n2     -75.632346          2       0          0       0   \n3    -116.241552         39       0          0       0   \n4     -94.471059          1       0          0       0   \n...          ...        ...     ...        ...     ...   \n3416  -66.589700        107       0         15      92   \n3417  108.277199        153       0         20     133   \n3418   35.233200         84       1         17      66   \n3419   27.849332         16       0          0      16   \n3420   29.154857          3       1          0       2   \n\n                       Combined_Key  \n0     Abbeville, South Carolina, US  \n1             Acadia, Louisiana, US  \n2            Accomack, Virginia, US  \n3                    Ada, Idaho, US  \n4                   Adair, Iowa, US  \n...                             ...  \n3416                      Venezuela  \n3417                        Vietnam  \n3418             West Bank and Gaza  \n3419                         Zambia  \n3420                       Zimbabwe  \n\n[3421 rows x 10 columns]",
      "text/html": "<div>\n<style scoped>\n    .dataframe tbody tr th:only-of-type {\n        vertical-align: middle;\n    }\n\n    .dataframe tbody tr th {\n        vertical-align: top;\n    }\n\n    .dataframe thead th {\n        text-align: right;\n    }\n</style>\n<table border=\"1\" class=\"dataframe\">\n  <thead>\n    <tr style=\"text-align: right;\">\n      <th></th>\n      <th>Province_State</th>\n      <th>Country/Region</th>\n      <th>Last_Update</th>\n      <th>Latitude</th>\n      <th>Longitude</th>\n      <th>Confirmed</th>\n      <th>Deaths</th>\n      <th>Recovered</th>\n      <th>Active</th>\n      <th>Combined_Key</th>\n    </tr>\n  </thead>\n  <tbody>\n    <tr>\n      <th>0</th>\n      <td>South Carolina</td>\n      <td>US</td>\n      <td>2020-03-26 23:48:35</td>\n      <td>34.223334</td>\n      <td>-82.461707</td>\n      <td>3</td>\n      <td>0</td>\n      <td>0</td>\n      <td>0</td>\n      <td>Abbeville, South Carolina, US</td>\n    </tr>\n    <tr>\n      <th>1</th>\n      <td>Louisiana</td>\n      <td>US</td>\n      <td>2020-03-26 23:48:35</td>\n      <td>30.295065</td>\n      <td>-92.414197</td>\n      <td>3</td>\n      <td>0</td>\n      <td>0</td>\n      <td>0</td>\n      <td>Acadia, Louisiana, US</td>\n    </tr>\n    <tr>\n      <th>2</th>\n      <td>Virginia</td>\n      <td>US</td>\n      <td>2020-03-26 23:48:35</td>\n      <td>37.767072</td>\n      <td>-75.632346</td>\n      <td>2</td>\n      <td>0</td>\n      <td>0</td>\n      <td>0</td>\n      <td>Accomack, Virginia, US</td>\n    </tr>\n    <tr>\n      <th>3</th>\n      <td>Idaho</td>\n      <td>US</td>\n      <td>2020-03-26 23:48:35</td>\n      <td>43.452658</td>\n      <td>-116.241552</td>\n      <td>39</td>\n      <td>0</td>\n      <td>0</td>\n      <td>0</td>\n      <td>Ada, Idaho, US</td>\n    </tr>\n    <tr>\n      <th>4</th>\n      <td>Iowa</td>\n      <td>US</td>\n      <td>2020-03-26 23:48:35</td>\n      <td>41.330756</td>\n      <td>-94.471059</td>\n      <td>1</td>\n      <td>0</td>\n      <td>0</td>\n      <td>0</td>\n      <td>Adair, Iowa, US</td>\n    </tr>\n    <tr>\n      <th>...</th>\n      <td>...</td>\n      <td>...</td>\n      <td>...</td>\n      <td>...</td>\n      <td>...</td>\n      <td>...</td>\n      <td>...</td>\n      <td>...</td>\n      <td>...</td>\n      <td>...</td>\n    </tr>\n    <tr>\n      <th>3416</th>\n      <td>NaN</td>\n      <td>Venezuela</td>\n      <td>2020-03-26 23:48:18</td>\n      <td>6.423800</td>\n      <td>-66.589700</td>\n      <td>107</td>\n      <td>0</td>\n      <td>15</td>\n      <td>92</td>\n      <td>Venezuela</td>\n    </tr>\n    <tr>\n      <th>3417</th>\n      <td>NaN</td>\n      <td>Vietnam</td>\n      <td>2020-03-26 23:48:18</td>\n      <td>14.058324</td>\n      <td>108.277199</td>\n      <td>153</td>\n      <td>0</td>\n      <td>20</td>\n      <td>133</td>\n      <td>Vietnam</td>\n    </tr>\n    <tr>\n      <th>3418</th>\n      <td>NaN</td>\n      <td>West Bank and Gaza</td>\n      <td>2020-03-26 23:48:18</td>\n      <td>31.952200</td>\n      <td>35.233200</td>\n      <td>84</td>\n      <td>1</td>\n      <td>17</td>\n      <td>66</td>\n      <td>West Bank and Gaza</td>\n    </tr>\n    <tr>\n      <th>3419</th>\n      <td>NaN</td>\n      <td>Zambia</td>\n      <td>2020-03-26 23:48:18</td>\n      <td>-13.133897</td>\n      <td>27.849332</td>\n      <td>16</td>\n      <td>0</td>\n      <td>0</td>\n      <td>16</td>\n      <td>Zambia</td>\n    </tr>\n    <tr>\n      <th>3420</th>\n      <td>NaN</td>\n      <td>Zimbabwe</td>\n      <td>2020-03-26 23:48:18</td>\n      <td>-19.015438</td>\n      <td>29.154857</td>\n      <td>3</td>\n      <td>1</td>\n      <td>0</td>\n      <td>2</td>\n      <td>Zimbabwe</td>\n    </tr>\n  </tbody>\n</table>\n<p>3421 rows × 10 columns</p>\n</div>"
     },
     "metadata": {}
    },
    {
     "output_type": "stream",
     "name": "stdout",
     "text": "['Afghanistan' 'Albania' 'Algeria' 'Andorra' 'Angola'\n 'Antigua and Barbuda' 'Argentina' 'Armenia' 'Australia' 'Austria'\n 'Azerbaijan' 'Bahamas' 'Bahrain' 'Bangladesh' 'Barbados' 'Belarus'\n 'Belgium' 'Belize' 'Benin' 'Bhutan' 'Bolivia' 'Bosnia and Herzegovina'\n 'Brazil' 'Brunei' 'Bulgaria' 'Burkina Faso' 'Cabo Verde' 'Cambodia'\n 'Cameroon' 'Canada' 'Central African Republic' 'Chad' 'Chile' 'China'\n 'Colombia' 'Congo (Brazzaville)' 'Congo (Kinshasa)' 'Costa Rica'\n \"Cote d'Ivoire\" 'Croatia' 'Cuba' 'Cyprus' 'Czechia' 'Denmark'\n 'Diamond Princess' 'Djibouti' 'Dominica' 'Dominican Republic' 'Ecuador'\n 'Egypt' 'El Salvador' 'Equatorial Guinea' 'Eritrea' 'Estonia' 'Eswatini'\n 'Ethiopia' 'Fiji' 'Finland' 'France' 'Gabon' 'Gambia' 'Georgia' 'Germany'\n 'Ghana' 'Greece' 'Grenada' 'Guatemala' 'Guinea' 'Guinea-Bissau' 'Guyana'\n 'Haiti' 'Holy See' 'Honduras' 'Hungary' 'Iceland' 'India' 'Indonesia'\n 'Iran' 'Iraq' 'Ireland' 'Israel' 'Italy' 'Jamaica' 'Japan' 'Jordan'\n 'Kazakhstan' 'Kenya' 'Korea, South' 'Kosovo' 'Kuwait' 'Kyrgyzstan' 'Laos'\n 'Latvia' 'Lebanon' 'Liberia' 'Libya' 'Liechtenstein' 'Lithuania'\n 'Luxembourg' 'Madagascar' 'Malaysia' 'Maldives' 'Mali' 'Malta'\n 'Mauritania' 'Mauritius' 'Mexico' 'Moldova' 'Monaco' 'Mongolia'\n 'Montenegro' 'Morocco' 'Mozambique' 'Namibia' 'Nepal' 'Netherlands'\n 'New Zealand' 'Nicaragua' 'Niger' 'Nigeria' 'North Macedonia' 'Norway'\n 'Oman' 'Pakistan' 'Panama' 'Papua New Guinea' 'Paraguay' 'Peru'\n 'Philippines' 'Poland' 'Portugal' 'Qatar' 'Romania' 'Russia' 'Rwanda'\n 'Saint Kitts and Nevis' 'Saint Lucia' 'Saint Vincent and the Grenadines'\n 'San Marino' 'Saudi Arabia' 'Senegal' 'Serbia' 'Seychelles' 'Singapore'\n 'Slovakia' 'Slovenia' 'Somalia' 'South Africa' 'Spain' 'Sri Lanka'\n 'Sudan' 'Suriname' 'Sweden' 'Switzerland' 'Syria' 'Taiwan*' 'Tanzania'\n 'Thailand' 'Timor-Leste' 'Togo' 'Trinidad and Tobago' 'Tunisia' 'Turkey'\n 'US' 'Uganda' 'Ukraine' 'United Arab Emirates' 'United Kingdom' 'Uruguay'\n 'Uzbekistan' 'Venezuela' 'Vietnam' 'West Bank and Gaza' 'Zambia'\n 'Zimbabwe']\n"
    }
   ],
   "source": [
    "root_path = 'COVID-19-master/csse_covid_19_data/csse_covid_19_daily_reports/'\n",
    "\n",
    "recent = sorted(os.listdir(root_path))[-2]\n",
    "path = os.path.join(root_path, recent)\n",
    "df = pd.read_csv(path)\n",
    "print(df.shape)\n",
    "\n",
    "df = df.rename({\"Country_Region\":\"Country/Region\"}, axis=\"columns\")\n",
    "df = df.rename({\"Long_\":\"Longitude\"}, axis=\"columns\")\n",
    "df = df.rename({\"Lat\":\"Latitude\"}, axis=\"columns\")\n",
    "df = df.drop(columns=['FIPS', 'Admin2'])\n",
    "\n",
    "display(df)\n",
    "country = df['Country/Region'].to_numpy()\n",
    "print(np.unique(country))"
   ]
  },
  {
   "cell_type": "code",
   "execution_count": 4,
   "metadata": {
    "colab": {},
    "colab_type": "code",
    "id": "QZlm8pxg3Cas"
   },
   "outputs": [],
   "source": [
    "dic_coor = {}\n",
    "for index, row in df.iterrows():\n",
    "  dic_coor[row['Country/Region']] = [row['Longitude'], row['Latitude']]"
   ]
  },
  {
   "cell_type": "code",
   "execution_count": 6,
   "metadata": {
    "colab": {},
    "colab_type": "code",
    "id": "bQsCpMkOyjn_"
   },
   "outputs": [
    {
     "output_type": "stream",
     "name": "stdout",
     "text": "Gerando dados tipo abs \n\n.gitig,01-22-2020,(38, 6)\n01-23-2020,(46, 6)\n01-24-2020,(41, 6)\n01-25-2020,(44, 6)\n01-26-2020,(47, 6)\n01-27-2020,(51, 6)\n01-28-2020,(52, 6)\n01-29-2020,(54, 6)\n01-30-2020,(58, 6)\n01-31-2020,(62, 6)\n02-01-2020,(67, 6)\n02-02-2020,(67, 6)\n02-03-2020,(68, 6)\n02-04-2020,(70, 6)\n02-05-2020,(71, 6)\n02-06-2020,(71, 6)\n02-07-2020,(72, 6)\n02-08-2020,(72, 6)\n02-09-2020,(72, 6)\n02-10-2020,(72, 6)\n02-11-2020,(73, 6)\n02-12-2020,(73, 6)\n02-13-2020,(74, 6)\n02-14-2020,(75, 6)\n02-15-2020,(75, 6)\n02-16-2020,(75, 6)\n02-17-2020,(75, 6)\n02-18-2020,(75, 6)\n02-19-2020,(76, 6)\n02-20-2020,(76, 6)\n02-21-2020,(84, 6)\n02-22-2020,(84, 6)\n02-23-2020,(85, 6)\n02-24-2020,(90, 6)\n02-25-2020,(94, 6)\n02-26-2020,(101, 6)\n02-27-2020,(105, 6)\n02-28-2020,(114, 6)\n02-29-2020,(119, 6)\n03-01-2020,(125, 8)\n03-02-2020,(141, 8)\n03-03-2020,(151, 8)\n03-04-2020,(160, 8)\n03-05-2020,(173, 8)\n03-06-2020,(199, 8)\n03-07-2020,(225, 8)\n03-08-2020,(255, 8)\n03-09-2020,(266, 8)\n03-10-2020,(206, 8)\n03-11-2020,(216, 8)\n03-12-2020,(218, 8)\n03-13-2020,(230, 8)\n03-14-2020,(249, 8)\n03-15-2020,(258, 8)\n03-16-2020,(272, 8)\n03-17-2020,(276, 8)\n03-18-2020,(284, 8)\n03-19-2020,(292, 8)\n03-20-2020,(299, 8)\n03-21-2020,(304, 8)\n03-22-2020,(3417, 12)\n03-23-2020,(3415, 12)\n03-24-2020,(3417, 12)\n03-25-2020,(3420, 12)\n03-26-2020,(3421, 12)\nREADM,Gerando dados tipo log \n\n.gitig,01-22-2020,(38, 6)\n01-23-2020,(46, 6)\n01-24-2020,(41, 6)\n01-25-2020,(44, 6)\n01-26-2020,(47, 6)\n01-27-2020,(51, 6)\n01-28-2020,(52, 6)\n01-29-2020,(54, 6)\n01-30-2020,(58, 6)\n01-31-2020,(62, 6)\n02-01-2020,(67, 6)\n02-02-2020,(67, 6)\n02-03-2020,(68, 6)\n02-04-2020,(70, 6)\n02-05-2020,(71, 6)\n02-06-2020,(71, 6)\n02-07-2020,(72, 6)\n02-08-2020,(72, 6)\n02-09-2020,(72, 6)\n02-10-2020,(72, 6)\n02-11-2020,(73, 6)\n02-12-2020,(73, 6)\n02-13-2020,(74, 6)\n02-14-2020,(75, 6)\n02-15-2020,(75, 6)\n02-16-2020,(75, 6)\n02-17-2020,(75, 6)\n02-18-2020,(75, 6)\n02-19-2020,(76, 6)\n02-20-2020,(76, 6)\n02-21-2020,(84, 6)\n02-22-2020,(84, 6)\n02-23-2020,(85, 6)\n02-24-2020,(90, 6)\n02-25-2020,(94, 6)\n02-26-2020,(101, 6)\n02-27-2020,(105, 6)\n02-28-2020,(114, 6)\n02-29-2020,(119, 6)\n03-01-2020,(125, 8)\n03-02-2020,(141, 8)\n03-03-2020,(151, 8)\n03-04-2020,(160, 8)\n03-05-2020,(173, 8)\n03-06-2020,(199, 8)\n03-07-2020,(225, 8)\n03-08-2020,(255, 8)\n03-09-2020,(266, 8)\n03-10-2020,(206, 8)\n03-11-2020,(216, 8)\n03-12-2020,(218, 8)\n03-13-2020,(230, 8)\n03-14-2020,(249, 8)\n03-15-2020,(258, 8)\n03-16-2020,(272, 8)\n03-17-2020,(276, 8)\n03-18-2020,(284, 8)\n03-19-2020,(292, 8)\n03-20-2020,(299, 8)\n03-21-2020,(304, 8)\n03-22-2020,(3417, 12)\n03-23-2020,(3415, 12)\n03-24-2020,(3417, 12)\n03-25-2020,(3420, 12)\n03-26-2020,(3421, 12)\nREADM,"
    }
   ],
   "source": [
    "# Carregar mapa\n",
    "world = gpd.read_file(gpd.datasets.get_path('naturalearth_lowres'))\n",
    "for tipo in ['abs', 'log']:\n",
    "  print(\"Gerando dados tipo\", tipo, \"\\n\")\n",
    "\n",
    "  if not os.path.isdir(tipo):\n",
    "    os.mkdir(tipo)\n",
    "\n",
    "  for k, csv in enumerate(sorted(os.listdir(root_path))):\n",
    "    plt.close('all')\n",
    "    print(csv[:-4], end=',')\n",
    "    \n",
    "    if not csv[-3:] == 'csv': continue\n",
    "    \n",
    "    path = os.path.join(root_path, csv)\n",
    "    df = pd.read_csv(path)\n",
    "    print(df.shape)\n",
    "\n",
    "    df = df.rename({\"Country_Region\":\"Country/Region\"}, axis=\"columns\")\n",
    "    df = df.rename({\"Long_\":\"Longitude\"}, axis=\"columns\")\n",
    "    df = df.rename({\"Lat\":\"Latitude\"}, axis=\"columns\")\n",
    "    # df = df.drop(columns=['FIPS', 'Admin2'])\n",
    "    \n",
    "    # Converter latitude e longitude para GeoDataFrame\n",
    "    if 'Longitude' not in df.columns.to_numpy():\n",
    "\n",
    "      regions = df['Country/Region']\n",
    "      regions = [r if r in dic_coor else 'China' for r in regions]\n",
    "      longitude = [dic_coor[r][0] for r in regions]\n",
    "      latitude  = [dic_coor[r][1] for r in regions]\n",
    "\n",
    "      df['Longitude'] = longitude\n",
    "      df['Latitude']  = latitude  \n",
    "      \n",
    "    gdf = gpd.GeoDataFrame(df, geometry=gpd.points_from_xy(df['Longitude'],df['Latitude']))\n",
    "\n",
    "    ax = world.plot(figsize=(15, 8))\n",
    "    \n",
    "    if tipo == \"log\":\n",
    "      gdf.plot(ax=ax, color='darkred', markersize=np.log10(gdf['Confirmed'])*2e1, alpha=0.6, ec='red')\n",
    "      plt.title('Número de casos do COVID-19\\nLog dos Valores', fontsize=21)\n",
    "    else:\n",
    "      gdf.plot(ax=ax, color='darkred', markersize=gdf['Confirmed'], alpha=0.6, ec='red')\n",
    "      plt.title('Número de casos do COVID-19\\nValores Absolutos', fontsize=21)\n",
    "      \n",
    "    date = csv[:-4].split('-')\n",
    "    plt.xlabel(date[1]+'/'+date[0]+'/'+date[2], fontsize=21)\n",
    "    plt.xticks([],[])\n",
    "    plt.yticks([],[])\n",
    "\n",
    "    plt.text(-193,0,'@canalpeixebabel', fontsize=12, va='center', color='darkblue', rotation=90)\n",
    "    plt.savefig(tipo+'/{:02d}.png'.format(k), dpi=90, format='png')"
   ]
  },
  {
   "cell_type": "code",
   "execution_count": 8,
   "metadata": {
    "colab": {
     "base_uri": "https://localhost:8080/",
     "height": 1000
    },
    "colab_type": "code",
    "id": "pomGRoJ3M7HS",
    "outputId": "2641cd1b-dc71-4d59-e425-23eb4eaa4887"
   },
   "outputs": [
    {
     "output_type": "error",
     "ename": "FileNotFoundError",
     "evalue": "No such file: '/home/tassio/Desenvolvimento/python/COVID-19/abs/67.png'",
     "traceback": [
      "\u001b[0;31m---------------------------------------------------------------------------\u001b[0m",
      "\u001b[0;31mFileNotFoundError\u001b[0m                         Traceback (most recent call last)",
      "\u001b[0;32m<ipython-input-8-0826a88de575>\u001b[0m in \u001b[0;36m<module>\u001b[0;34m\u001b[0m\n\u001b[1;32m      1\u001b[0m \u001b[0;32mfor\u001b[0m \u001b[0mtipo\u001b[0m \u001b[0;32min\u001b[0m \u001b[0;34m[\u001b[0m\u001b[0;34m'abs'\u001b[0m\u001b[0;34m,\u001b[0m \u001b[0;34m'log'\u001b[0m\u001b[0;34m]\u001b[0m\u001b[0;34m:\u001b[0m\u001b[0;34m\u001b[0m\u001b[0;34m\u001b[0m\u001b[0m\n\u001b[1;32m      2\u001b[0m   \u001b[0mplt\u001b[0m\u001b[0;34m.\u001b[0m\u001b[0mfigure\u001b[0m\u001b[0;34m(\u001b[0m\u001b[0mfigsize\u001b[0m\u001b[0;34m=\u001b[0m\u001b[0;34m(\u001b[0m\u001b[0;36m20\u001b[0m\u001b[0;34m,\u001b[0m \u001b[0;36m10\u001b[0m\u001b[0;34m)\u001b[0m\u001b[0;34m)\u001b[0m\u001b[0;34m\u001b[0m\u001b[0;34m\u001b[0m\u001b[0m\n\u001b[0;32m----> 3\u001b[0;31m   \u001b[0mimg\u001b[0m \u001b[0;34m=\u001b[0m \u001b[0mio\u001b[0m\u001b[0;34m.\u001b[0m\u001b[0mimread\u001b[0m\u001b[0;34m(\u001b[0m\u001b[0;34m'{:s}/{:02d}.png'\u001b[0m\u001b[0;34m.\u001b[0m\u001b[0mformat\u001b[0m\u001b[0;34m(\u001b[0m\u001b[0mtipo\u001b[0m\u001b[0;34m,\u001b[0m \u001b[0mlen\u001b[0m\u001b[0;34m(\u001b[0m\u001b[0mos\u001b[0m\u001b[0;34m.\u001b[0m\u001b[0mlistdir\u001b[0m\u001b[0;34m(\u001b[0m\u001b[0mroot_path\u001b[0m\u001b[0;34m)\u001b[0m\u001b[0;34m)\u001b[0m\u001b[0;34m)\u001b[0m\u001b[0;34m)\u001b[0m\u001b[0;34m\u001b[0m\u001b[0;34m\u001b[0m\u001b[0m\n\u001b[0m\u001b[1;32m      4\u001b[0m   \u001b[0mplt\u001b[0m\u001b[0;34m.\u001b[0m\u001b[0mimshow\u001b[0m\u001b[0;34m(\u001b[0m\u001b[0mimg\u001b[0m\u001b[0;34m)\u001b[0m\u001b[0;34m\u001b[0m\u001b[0;34m\u001b[0m\u001b[0m\n\u001b[1;32m      5\u001b[0m   \u001b[0mplt\u001b[0m\u001b[0;34m.\u001b[0m\u001b[0maxis\u001b[0m\u001b[0;34m(\u001b[0m\u001b[0;34m'off'\u001b[0m\u001b[0;34m)\u001b[0m\u001b[0;34m\u001b[0m\u001b[0;34m\u001b[0m\u001b[0m\n",
      "\u001b[0;32m~/.local/lib/python3.8/site-packages/skimage/io/_io.py\u001b[0m in \u001b[0;36mimread\u001b[0;34m(fname, as_gray, plugin, **plugin_args)\u001b[0m\n\u001b[1;32m     46\u001b[0m \u001b[0;34m\u001b[0m\u001b[0m\n\u001b[1;32m     47\u001b[0m     \u001b[0;32mwith\u001b[0m \u001b[0mfile_or_url_context\u001b[0m\u001b[0;34m(\u001b[0m\u001b[0mfname\u001b[0m\u001b[0;34m)\u001b[0m \u001b[0;32mas\u001b[0m \u001b[0mfname\u001b[0m\u001b[0;34m:\u001b[0m\u001b[0;34m\u001b[0m\u001b[0;34m\u001b[0m\u001b[0m\n\u001b[0;32m---> 48\u001b[0;31m         \u001b[0mimg\u001b[0m \u001b[0;34m=\u001b[0m \u001b[0mcall_plugin\u001b[0m\u001b[0;34m(\u001b[0m\u001b[0;34m'imread'\u001b[0m\u001b[0;34m,\u001b[0m \u001b[0mfname\u001b[0m\u001b[0;34m,\u001b[0m \u001b[0mplugin\u001b[0m\u001b[0;34m=\u001b[0m\u001b[0mplugin\u001b[0m\u001b[0;34m,\u001b[0m \u001b[0;34m**\u001b[0m\u001b[0mplugin_args\u001b[0m\u001b[0;34m)\u001b[0m\u001b[0;34m\u001b[0m\u001b[0;34m\u001b[0m\u001b[0m\n\u001b[0m\u001b[1;32m     49\u001b[0m \u001b[0;34m\u001b[0m\u001b[0m\n\u001b[1;32m     50\u001b[0m     \u001b[0;32mif\u001b[0m \u001b[0;32mnot\u001b[0m \u001b[0mhasattr\u001b[0m\u001b[0;34m(\u001b[0m\u001b[0mimg\u001b[0m\u001b[0;34m,\u001b[0m \u001b[0;34m'ndim'\u001b[0m\u001b[0;34m)\u001b[0m\u001b[0;34m:\u001b[0m\u001b[0;34m\u001b[0m\u001b[0;34m\u001b[0m\u001b[0m\n",
      "\u001b[0;32m~/.local/lib/python3.8/site-packages/skimage/io/manage_plugins.py\u001b[0m in \u001b[0;36mcall_plugin\u001b[0;34m(kind, *args, **kwargs)\u001b[0m\n\u001b[1;32m    208\u001b[0m                                (plugin, kind))\n\u001b[1;32m    209\u001b[0m \u001b[0;34m\u001b[0m\u001b[0m\n\u001b[0;32m--> 210\u001b[0;31m     \u001b[0;32mreturn\u001b[0m \u001b[0mfunc\u001b[0m\u001b[0;34m(\u001b[0m\u001b[0;34m*\u001b[0m\u001b[0margs\u001b[0m\u001b[0;34m,\u001b[0m \u001b[0;34m**\u001b[0m\u001b[0mkwargs\u001b[0m\u001b[0;34m)\u001b[0m\u001b[0;34m\u001b[0m\u001b[0;34m\u001b[0m\u001b[0m\n\u001b[0m\u001b[1;32m    211\u001b[0m \u001b[0;34m\u001b[0m\u001b[0m\n\u001b[1;32m    212\u001b[0m \u001b[0;34m\u001b[0m\u001b[0m\n",
      "\u001b[0;32m~/.local/lib/python3.8/site-packages/skimage/io/_plugins/imageio_plugin.py\u001b[0m in \u001b[0;36mimread\u001b[0;34m(*args, **kwargs)\u001b[0m\n\u001b[1;32m      8\u001b[0m \u001b[0;34m@\u001b[0m\u001b[0mwraps\u001b[0m\u001b[0;34m(\u001b[0m\u001b[0mimageio_imread\u001b[0m\u001b[0;34m)\u001b[0m\u001b[0;34m\u001b[0m\u001b[0;34m\u001b[0m\u001b[0m\n\u001b[1;32m      9\u001b[0m \u001b[0;32mdef\u001b[0m \u001b[0mimread\u001b[0m\u001b[0;34m(\u001b[0m\u001b[0;34m*\u001b[0m\u001b[0margs\u001b[0m\u001b[0;34m,\u001b[0m \u001b[0;34m**\u001b[0m\u001b[0mkwargs\u001b[0m\u001b[0;34m)\u001b[0m\u001b[0;34m:\u001b[0m\u001b[0;34m\u001b[0m\u001b[0;34m\u001b[0m\u001b[0m\n\u001b[0;32m---> 10\u001b[0;31m     \u001b[0;32mreturn\u001b[0m \u001b[0mnp\u001b[0m\u001b[0;34m.\u001b[0m\u001b[0masarray\u001b[0m\u001b[0;34m(\u001b[0m\u001b[0mimageio_imread\u001b[0m\u001b[0;34m(\u001b[0m\u001b[0;34m*\u001b[0m\u001b[0margs\u001b[0m\u001b[0;34m,\u001b[0m \u001b[0;34m**\u001b[0m\u001b[0mkwargs\u001b[0m\u001b[0;34m)\u001b[0m\u001b[0;34m)\u001b[0m\u001b[0;34m\u001b[0m\u001b[0;34m\u001b[0m\u001b[0m\n\u001b[0m",
      "\u001b[0;32m~/.local/lib/python3.8/site-packages/imageio/core/functions.py\u001b[0m in \u001b[0;36mimread\u001b[0;34m(uri, format, **kwargs)\u001b[0m\n\u001b[1;32m    263\u001b[0m \u001b[0;34m\u001b[0m\u001b[0m\n\u001b[1;32m    264\u001b[0m     \u001b[0;31m# Get reader and read first\u001b[0m\u001b[0;34m\u001b[0m\u001b[0;34m\u001b[0m\u001b[0;34m\u001b[0m\u001b[0m\n\u001b[0;32m--> 265\u001b[0;31m     \u001b[0mreader\u001b[0m \u001b[0;34m=\u001b[0m \u001b[0mread\u001b[0m\u001b[0;34m(\u001b[0m\u001b[0muri\u001b[0m\u001b[0;34m,\u001b[0m \u001b[0mformat\u001b[0m\u001b[0;34m,\u001b[0m \u001b[0;34m\"i\"\u001b[0m\u001b[0;34m,\u001b[0m \u001b[0;34m**\u001b[0m\u001b[0mkwargs\u001b[0m\u001b[0;34m)\u001b[0m\u001b[0;34m\u001b[0m\u001b[0;34m\u001b[0m\u001b[0m\n\u001b[0m\u001b[1;32m    266\u001b[0m     \u001b[0;32mwith\u001b[0m \u001b[0mreader\u001b[0m\u001b[0;34m:\u001b[0m\u001b[0;34m\u001b[0m\u001b[0;34m\u001b[0m\u001b[0m\n\u001b[1;32m    267\u001b[0m         \u001b[0;32mreturn\u001b[0m \u001b[0mreader\u001b[0m\u001b[0;34m.\u001b[0m\u001b[0mget_data\u001b[0m\u001b[0;34m(\u001b[0m\u001b[0;36m0\u001b[0m\u001b[0;34m)\u001b[0m\u001b[0;34m\u001b[0m\u001b[0;34m\u001b[0m\u001b[0m\n",
      "\u001b[0;32m~/.local/lib/python3.8/site-packages/imageio/core/functions.py\u001b[0m in \u001b[0;36mget_reader\u001b[0;34m(uri, format, mode, **kwargs)\u001b[0m\n\u001b[1;32m    170\u001b[0m \u001b[0;34m\u001b[0m\u001b[0m\n\u001b[1;32m    171\u001b[0m     \u001b[0;31m# Create request object\u001b[0m\u001b[0;34m\u001b[0m\u001b[0;34m\u001b[0m\u001b[0;34m\u001b[0m\u001b[0m\n\u001b[0;32m--> 172\u001b[0;31m     \u001b[0mrequest\u001b[0m \u001b[0;34m=\u001b[0m \u001b[0mRequest\u001b[0m\u001b[0;34m(\u001b[0m\u001b[0muri\u001b[0m\u001b[0;34m,\u001b[0m \u001b[0;34m\"r\"\u001b[0m \u001b[0;34m+\u001b[0m \u001b[0mmode\u001b[0m\u001b[0;34m,\u001b[0m \u001b[0;34m**\u001b[0m\u001b[0mkwargs\u001b[0m\u001b[0;34m)\u001b[0m\u001b[0;34m\u001b[0m\u001b[0;34m\u001b[0m\u001b[0m\n\u001b[0m\u001b[1;32m    173\u001b[0m \u001b[0;34m\u001b[0m\u001b[0m\n\u001b[1;32m    174\u001b[0m     \u001b[0;31m# Get format\u001b[0m\u001b[0;34m\u001b[0m\u001b[0;34m\u001b[0m\u001b[0;34m\u001b[0m\u001b[0m\n",
      "\u001b[0;32m~/.local/lib/python3.8/site-packages/imageio/core/request.py\u001b[0m in \u001b[0;36m__init__\u001b[0;34m(self, uri, mode, **kwargs)\u001b[0m\n\u001b[1;32m    119\u001b[0m \u001b[0;34m\u001b[0m\u001b[0m\n\u001b[1;32m    120\u001b[0m         \u001b[0;31m# Parse what was given\u001b[0m\u001b[0;34m\u001b[0m\u001b[0;34m\u001b[0m\u001b[0;34m\u001b[0m\u001b[0m\n\u001b[0;32m--> 121\u001b[0;31m         \u001b[0mself\u001b[0m\u001b[0;34m.\u001b[0m\u001b[0m_parse_uri\u001b[0m\u001b[0;34m(\u001b[0m\u001b[0muri\u001b[0m\u001b[0;34m)\u001b[0m\u001b[0;34m\u001b[0m\u001b[0;34m\u001b[0m\u001b[0m\n\u001b[0m\u001b[1;32m    122\u001b[0m \u001b[0;34m\u001b[0m\u001b[0m\n\u001b[1;32m    123\u001b[0m         \u001b[0;31m# Set extension\u001b[0m\u001b[0;34m\u001b[0m\u001b[0;34m\u001b[0m\u001b[0;34m\u001b[0m\u001b[0m\n",
      "\u001b[0;32m~/.local/lib/python3.8/site-packages/imageio/core/request.py\u001b[0m in \u001b[0;36m_parse_uri\u001b[0;34m(self, uri)\u001b[0m\n\u001b[1;32m    255\u001b[0m                 \u001b[0;31m# Reading: check that the file exists (but is allowed a dir)\u001b[0m\u001b[0;34m\u001b[0m\u001b[0;34m\u001b[0m\u001b[0;34m\u001b[0m\u001b[0m\n\u001b[1;32m    256\u001b[0m                 \u001b[0;32mif\u001b[0m \u001b[0;32mnot\u001b[0m \u001b[0mos\u001b[0m\u001b[0;34m.\u001b[0m\u001b[0mpath\u001b[0m\u001b[0;34m.\u001b[0m\u001b[0mexists\u001b[0m\u001b[0;34m(\u001b[0m\u001b[0mfn\u001b[0m\u001b[0;34m)\u001b[0m\u001b[0;34m:\u001b[0m\u001b[0;34m\u001b[0m\u001b[0;34m\u001b[0m\u001b[0m\n\u001b[0;32m--> 257\u001b[0;31m                     \u001b[0;32mraise\u001b[0m \u001b[0mFileNotFoundError\u001b[0m\u001b[0;34m(\u001b[0m\u001b[0;34m\"No such file: '%s'\"\u001b[0m \u001b[0;34m%\u001b[0m \u001b[0mfn\u001b[0m\u001b[0;34m)\u001b[0m\u001b[0;34m\u001b[0m\u001b[0;34m\u001b[0m\u001b[0m\n\u001b[0m\u001b[1;32m    258\u001b[0m             \u001b[0;32melse\u001b[0m\u001b[0;34m:\u001b[0m\u001b[0;34m\u001b[0m\u001b[0;34m\u001b[0m\u001b[0m\n\u001b[1;32m    259\u001b[0m                 \u001b[0;31m# Writing: check that the directory to write to does exist\u001b[0m\u001b[0;34m\u001b[0m\u001b[0;34m\u001b[0m\u001b[0;34m\u001b[0m\u001b[0m\n",
      "\u001b[0;31mFileNotFoundError\u001b[0m: No such file: '/home/tassio/Desenvolvimento/python/COVID-19/abs/67.png'"
     ]
    }
   ],
   "source": [
    "for tipo in ['abs', 'log']:\n",
    "  plt.figure(figsize=(20, 10))\n",
    "  img = io.imread('{:s}/{:02d}.png'.format(tipo, len(os.listdir(root_path))))\n",
    "  plt.imshow(img)\n",
    "  plt.axis('off')\n",
    "  plt.show()\n",
    ""
   ]
  },
  {
   "cell_type": "code",
   "execution_count": 9,
   "metadata": {
    "colab": {},
    "colab_type": "code",
    "id": "0AbUlOD6MJKO"
   },
   "outputs": [],
   "source": [
    "world = gpd.read_file(gpd.datasets.get_path('naturalearth_lowres'))\n",
    "\n",
    "# Capa Log\n",
    "ax = world.plot(figsize=(15, 8), alpha=0.5)\n",
    "plt.text(0, 0, 'Número de casos do COVID-19\\nLog dos Valores', linespacing=2 ,ha='center', \n",
    "        bbox=dict(boxstyle=\"round\",\n",
    "                  ec=(1., 0.5, 0.5),\n",
    "                  facecolor=(0.7, 0.1, 0.1, 0.8),\n",
    "                  ),color='white', fontsize=30)\n",
    "plt.text(-193,0,'@canalpeixebabel', fontsize=12, va='center', color='darkblue', rotation=90)\n",
    "plt.savefig('logtitle.png', dpi=100,format='png')\n",
    "plt.close('all')\n",
    "\n",
    "# Capa Abs\n",
    "ax = world.plot(figsize=(15, 8), alpha=0.5)\n",
    "plt.text(0, 0, 'Número de casos do COVID-19\\nValores Absolutos', linespacing=2 ,ha='center', \n",
    "        bbox=dict(boxstyle=\"round\",\n",
    "                  ec=(1., 0.5, 0.5),\n",
    "                  facecolor=(0.7, 0.1, 0.1, 0.8),\n",
    "                  ),color='white', fontsize=30)\n",
    "plt.text(-193,0,'@canalpeixebabel', fontsize=12, va='center', color='darkblue', rotation=90)\n",
    "plt.savefig('abstitle.png', dpi=100,format='png')\n",
    "plt.close('all')"
   ]
  },
  {
   "cell_type": "code",
   "execution_count": 10,
   "metadata": {
    "colab": {},
    "colab_type": "code",
    "id": "hj6F2SeqLFqJ"
   },
   "outputs": [],
   "source": [
    "os.environ['num_csv'] = str(len(os.listdir(root_path))-2)\n",
    "!cp abs/$num_csv.png abs/`expr $num_csv + 1`.png\n",
    "!cp abs/$num_csv.png abs/`expr $num_csv + 2`.png\n",
    "!cp abs/$num_csv.png abs/`expr $num_csv + 3`.png\n",
    "\n",
    "!cp log/$num_csv.png log/`expr $num_csv + 1`.png \n",
    "!cp log/$num_csv.png log/`expr $num_csv + 2`.png\n",
    "!cp log/$num_csv.png log/`expr $num_csv + 3`.png"
   ]
  },
  {
   "cell_type": "code",
   "execution_count": 11,
   "metadata": {
    "colab": {
     "base_uri": "https://localhost:8080/",
     "height": 74
    },
    "colab_type": "code",
    "id": "6JZZDaXeyNxR",
    "outputId": "9502e11a-8af0-44e3-afca-a775f6f11136"
   },
   "outputs": [
    {
     "output_type": "stream",
     "name": "stdout",
     "text": "['abstitle.png', 'abstitle.png', 'abstitle.png', 'abstitle.png', 'abstitle.png', 'abstitle.png', 'abstitle.png', 'abstitle.png', 'abs/01.png', 'abs/02.png', 'abs/03.png', 'abs/04.png', 'abs/05.png', 'abs/06.png', 'abs/07.png', 'abs/08.png', 'abs/09.png', 'abs/10.png', 'abs/11.png', 'abs/12.png', 'abs/13.png', 'abs/14.png', 'abs/15.png', 'abs/16.png', 'abs/17.png', 'abs/18.png', 'abs/19.png', 'abs/20.png', 'abs/21.png', 'abs/22.png', 'abs/23.png', 'abs/24.png', 'abs/25.png', 'abs/26.png', 'abs/27.png', 'abs/28.png', 'abs/29.png', 'abs/30.png', 'abs/31.png', 'abs/32.png', 'abs/33.png', 'abs/34.png', 'abs/35.png', 'abs/36.png', 'abs/37.png', 'abs/38.png', 'abs/39.png', 'abs/40.png', 'abs/41.png', 'abs/42.png', 'abs/43.png', 'abs/44.png', 'abs/45.png', 'abs/46.png', 'abs/47.png', 'abs/48.png', 'abs/49.png', 'abs/50.png', 'abs/51.png', 'abs/52.png', 'abs/53.png', 'abs/54.png', 'abs/55.png', 'abs/56.png', 'abs/57.png', 'abs/58.png', 'abs/59.png', 'abs/60.png', 'abs/61.png', 'abs/62.png', 'abs/63.png', 'abs/64.png', 'abs/65.png', 'abs/66.png', 'abs/67.png', 'abs/68.png', 'logtitle.png', 'logtitle.png', 'logtitle.png', 'logtitle.png', 'logtitle.png', 'logtitle.png', 'logtitle.png', 'log/01.png', 'log/02.png', 'log/03.png', 'log/04.png', 'log/05.png', 'log/06.png', 'log/07.png', 'log/08.png', 'log/09.png', 'log/10.png', 'log/11.png', 'log/12.png', 'log/13.png', 'log/14.png', 'log/15.png', 'log/16.png', 'log/17.png', 'log/18.png', 'log/19.png', 'log/20.png', 'log/21.png', 'log/22.png', 'log/23.png', 'log/24.png', 'log/25.png', 'log/26.png', 'log/27.png', 'log/28.png', 'log/29.png', 'log/30.png', 'log/31.png', 'log/32.png', 'log/33.png', 'log/34.png', 'log/35.png', 'log/36.png', 'log/37.png', 'log/38.png', 'log/39.png', 'log/40.png', 'log/41.png', 'log/42.png', 'log/43.png', 'log/44.png', 'log/45.png', 'log/46.png', 'log/47.png', 'log/48.png', 'log/49.png', 'log/50.png', 'log/51.png', 'log/52.png', 'log/53.png', 'log/54.png', 'log/55.png', 'log/56.png', 'log/57.png', 'log/58.png', 'log/59.png', 'log/60.png', 'log/61.png', 'log/62.png', 'log/63.png', 'log/64.png', 'log/65.png', 'log/66.png', 'log/67.png', 'log/68.png']\ndata-covid19.gif salvo nos seus arquivos\n"
    }
   ],
   "source": [
    "import imageio\n",
    "images = []\n",
    "filenames = ['abstitle.png', 'abstitle.png', 'abstitle.png', 'abstitle.png', 'abstitle.png', 'abstitle.png', 'abstitle.png', 'abstitle.png']\n",
    "filenames.extend(['abs/'+ f for f in sorted(os.listdir('abs/'))] )\n",
    "filenames.extend( ['logtitle.png', 'logtitle.png', 'logtitle.png', 'logtitle.png', 'logtitle.png', 'logtitle.png', 'logtitle.png'] )\n",
    "filenames.extend(['log/'+ f for f in sorted(os.listdir('log/'))] )\n",
    "print(filenames)\n",
    "for filename in filenames:\n",
    "    if '.png' in filename:\n",
    "      images.append(imageio.imread(filename))\n",
    "imageio.mimsave('imagens/data-covid19.gif', images, duration=1/3)\n",
    "print(\"data-covid19.gif salvo nos seus arquivos\")"
   ]
  },
  {
   "cell_type": "code",
   "execution_count": null,
   "metadata": {},
   "outputs": [],
   "source": []
  }
 ],
 "metadata": {
  "colab": {
   "name": "COVID-19_Mundial.ipynb",
   "provenance": []
  },
  "kernelspec": {
   "display_name": "Python 3",
   "language": "python",
   "name": "python3"
  },
  "language_info": {
   "codemirror_mode": {
    "name": "ipython",
    "version": 3
   },
   "file_extension": ".py",
   "mimetype": "text/x-python",
   "name": "python",
   "nbconvert_exporter": "python",
   "pygments_lexer": "ipython3",
   "version": "3.8.2-final"
  }
 },
 "nbformat": 4,
 "nbformat_minor": 4
}